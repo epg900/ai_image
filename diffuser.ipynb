{
  "nbformat": 4,
  "nbformat_minor": 0,
  "metadata": {
    "colab": {
      "provenance": [],
      "gpuType": "T4"
    },
    "kernelspec": {
      "name": "python3",
      "display_name": "Python 3"
    },
    "language_info": {
      "name": "python"
    },
    "accelerator": "GPU"
  },
  "cells": [
    {
      "cell_type": "code",
      "source": [
        "!pip install git+https://github.com/huggingface/diffusers\n",
        "import PIL\n",
        "import torch\n",
        "\n",
        "from diffusers import DiffusionPipeline\n",
        "\n",
        "image_path = \"/content/11111.jpg\"\n",
        "inner_image_path = \"/content/in2.png\"\n",
        "mask_path = \"/content/mask.png\"\n",
        "\n",
        "init_image = PIL.Image.open(image_path).convert(\"RGB\").resize((512, 512))\n",
        "inner_image = PIL.Image.open(inner_image_path).convert(\"RGBA\").resize((512, 512))\n",
        "mask_image = PIL.Image.open(mask_path).convert(\"RGB\").resize((512, 512))\n",
        "\n",
        "pipe = DiffusionPipeline.from_pretrained(\n",
        "    \"runwayml/stable-diffusion-inpainting\",\n",
        "    custom_pipeline=\"img2img_inpainting\",\n",
        "    torch_dtype=torch.float16\n",
        ")\n",
        "pipe = pipe.to(\"cuda\")\n",
        "\n",
        "prompt = \"\"\n",
        "image = pipe(prompt=prompt, image=init_image, inner_image=inner_image, mask_image=mask_image).images[0]\n",
        "image"
      ],
      "metadata": {
        "id": "_wI2K9zfVMCJ"
      },
      "execution_count": null,
      "outputs": []
    }
  ]
}